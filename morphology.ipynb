{
 "cells": [
  {
   "cell_type": "code",
   "execution_count": null,
   "metadata": {},
   "outputs": [],
   "source": [
    "### Generate dataset to train chars2vec\n",
    "\n",
    "\n",
    "from embeddings_lab import morphological\n",
    "\n",
    "\n",
    "TSV = \"sample/morphology/related.tsv\"\n",
    "JSON = \"sample/morphology/related.json\"\n",
    "DATASET = \"sample/morphology/dataset.pkl\"\n",
    "morphological.relsets_from_tsv(TSV, JSON)\n",
    "morphological.gen_dataset(JSON, DATASET)"
   ]
  },
  {
   "cell_type": "code",
   "execution_count": null,
   "metadata": {},
   "outputs": [],
   "source": [
    "### Train chars2vec\n",
    "\n",
    "\n",
    "import chars2vec\n",
    "from embeddings_lab import morphological\n",
    "\n",
    "\n",
    "VECTOR_SIZE = 50\n",
    "MODEL = \"sample/morphology/c2v\"\n",
    "DATASET = \"sample/morphology/dataset.pkl\"\n",
    "\n",
    "\n",
    "model = MODEL + '_' + str(VECTOR_SIZE)\n",
    "X_train, y_train = morphological.load_dataset(DATASET)\n",
    "model_chars = ['a', 'b', 'c', 'd', 'e', 'f', 'g', 'h', 'i', 'j', 'k', 'l', 'm',\n",
    "               'n', 'o', 'p', 'q', 'r', 's', 't', 'u', 'v', 'w', 'x', 'y', 'z',\n",
    "               'à', 'è', 'é', 'ì', 'ò', 'ù']\n",
    "c2v_model = chars2vec.train_model(VECTOR_SIZE, X_train, y_train, model_chars)\n",
    "chars2vec.save_model(c2v_model, model)"
   ]
  },
  {
   "cell_type": "code",
   "execution_count": null,
   "metadata": {},
   "outputs": [],
   "source": [
    "### Generate morphological embeddings from model\n",
    "\n",
    "\n",
    "from embeddings_lab import morphological\n",
    "\n",
    "\n",
    "MODEL = \"sample/morphology/c2v_50\"\n",
    "WORDLIST = \"sample/morphology/targets.txt\"\n",
    "EMBEDDINGS = \"sample/morphology/morphological_vectors.w2v\"\n",
    "\n",
    "\n",
    "morphological.gen_embeddings(MODEL, WORDLIST, EMBEDDINGS)"
   ]
  }
 ],
 "metadata": {
  "kernelspec": {
   "display_name": "Python 3",
   "language": "python",
   "name": "python3"
  },
  "language_info": {
   "codemirror_mode": {
    "name": "ipython",
    "version": 3
   },
   "file_extension": ".py",
   "mimetype": "text/x-python",
   "name": "python",
   "nbconvert_exporter": "python",
   "pygments_lexer": "ipython3",
   "version": "3.11.2"
  },
  "orig_nbformat": 4,
  "vscode": {
   "interpreter": {
    "hash": "39bd4f98dace1f2c7328a2c3c3450a77e0e28d891d3a2b6db09433400b325a20"
   }
  }
 },
 "nbformat": 4,
 "nbformat_minor": 2
}
